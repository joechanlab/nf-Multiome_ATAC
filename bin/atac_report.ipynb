{
 "cells": [
  {
   "cell_type": "code",
   "execution_count": null,
   "id": "0e964f06-173a-4846-9a61-8c4961673941",
   "metadata": {},
   "outputs": [],
   "source": [
    "import os\n",
    "import pickle\n",
    "import numpy as np\n",
    "import pandas as pd\n",
    "import matplotlib.pyplot as plt\n",
    "import snapatac2 as snap\n",
    "import scanpy as sc\n",
    "\n",
    "os.environ[ 'NUMBA_CACHE_DIR' ] = '/tmp/'\n",
    "sc.settings.verbosity = 3 # verbosity: errors (0), warnings (1), info (2), hints (3)\n",
    "sc.logging.print_header()\n",
    "sc.settings.set_figure_params(dpi=80, facecolor='white')"
   ]
  },
  {
   "cell_type": "code",
   "execution_count": null,
   "id": "ce28f1b2-b6fd-4da6-b04a-ba15084f2e7f",
   "metadata": {},
   "outputs": [],
   "source": [
    "path = './'\n",
    "\n",
    "atac_adata_path = os.path.join(path, [f for f in os.listdir(path) if f.endswith('_atac.h5ad')][0])\n",
    "atac_adata = snap.read(atac_adata_path, backed=None)\n",
    "\n",
    "peak_path = os.path.join(path, [f for f in os.listdir(path) if f.endswith('peak_mtx.h5ad')][0])\n",
    "peak_adata = snap.read(peak_path, backed=None)\n",
    "\n",
    "motif_path = os.path.join(path, [f for f in os.listdir(path) if f.endswith('motif_enrichment.pkl')][0])\n",
    "with open(motif_path, \"rb\") as f:\n",
    "    motifs = pickle.load(f)\n",
    "\n",
    "rna_adata_path = os.path.join(path, [f for f in os.listdir(path) if f.endswith('_rna.h5ad')][0])\n",
    "rna_adata = snap.read(rna_adata_path, backed=None)\n",
    "\n",
    "joint_embedding = os.path.join(path, [f for f in os.listdir(path) if f.endswith('joint_embedding.npy')][0])\n",
    "joint_embedding = np.load(joint_embedding)\n",
    "\n",
    "pruned_network_path = os.path.join(path, [f for f in os.listdir(path) if f.endswith('pruned_network.pkl')][0])\n",
    "with open(pruned_network_path, \"rb\") as f:\n",
    "    pruned_network = pickle.load(f)"
   ]
  },
  {
   "cell_type": "markdown",
   "id": "9fd0d3e6-ad4d-4855-aecc-3930a4ebb20e",
   "metadata": {},
   "source": [
    "## Fragment size distribution"
   ]
  },
  {
   "cell_type": "code",
   "execution_count": null,
   "id": "098fc5c0-4fd3-4772-b223-7aa4d8a2bbcd",
   "metadata": {},
   "outputs": [],
   "source": [
    "snap.pl.frag_size_distr(atac_adata, interactive=False)"
   ]
  },
  {
   "cell_type": "markdown",
   "id": "9b133a67-72c2-4f51-b8dc-d28661920b87",
   "metadata": {},
   "source": [
    "## TSS enrichment"
   ]
  },
  {
   "cell_type": "code",
   "execution_count": null,
   "id": "f570e4cc-a326-47f3-a0bc-5609dc4c92d9",
   "metadata": {},
   "outputs": [],
   "source": [
    "snap.pl.tsse(atac_adata, interactive=False)"
   ]
  },
  {
   "cell_type": "markdown",
   "id": "025594d1-7075-4f59-9659-cf7a5cc48e96",
   "metadata": {},
   "source": [
    "## Clustering"
   ]
  },
  {
   "cell_type": "code",
   "execution_count": null,
   "id": "2819e4c4-76ae-4e8e-a875-01b6122542b2",
   "metadata": {},
   "outputs": [],
   "source": [
    "rna_adata.obs['leiden_atac'] = atac_adata.obs['leiden']\n",
    "rna_adata.obs['leiden_rna'] = rna_adata.obs['leiden']\n",
    "atac_adata.obs['leiden_atac'] = atac_adata.obs['leiden']\n",
    "atac_adata.obs['leiden_rna'] = rna_adata.obs['leiden']\n",
    "atac_adata.obs['predicted_labels_1'] = rna_adata.obs['predicted_labels_1']"
   ]
  },
  {
   "cell_type": "code",
   "execution_count": null,
   "id": "7de269cd-014b-405d-b15e-cc6819418083",
   "metadata": {},
   "outputs": [],
   "source": [
    "fig, ax = plt.subplots(1, 2, figsize = (10, 3))\n",
    "sc.pl.umap(atac_adata, color='leiden_atac', ax = ax[0], show = False, title='ATAC (ATAC leiden)', frameon=False)\n",
    "sc.pl.umap(rna_adata, color='leiden_atac', ax = ax[1], show = False, title='RNA (ATAC leiden)', frameon=False)\n",
    "plt.tight_layout()\n",
    "plt.show()"
   ]
  },
  {
   "cell_type": "code",
   "execution_count": null,
   "id": "d3735aab-b131-46de-b887-3ccbe937e6dc",
   "metadata": {},
   "outputs": [],
   "source": [
    "fig, ax = plt.subplots(1, 2, figsize = (10, 3))\n",
    "sc.pl.umap(atac_adata, color='leiden_rna', ax = ax[0], show = False, title='ATAC (RNA leiden)', frameon=False)\n",
    "sc.pl.umap(rna_adata, color='leiden_rna', ax = ax[1], show = False, title='RNA (RNA leiden)', frameon=False)\n",
    "plt.tight_layout()\n",
    "plt.show()"
   ]
  },
  {
   "cell_type": "code",
   "execution_count": null,
   "id": "c1fb2c8c-1778-48d1-927a-9f1d44371c9b",
   "metadata": {},
   "outputs": [],
   "source": [
    "fig, ax = plt.subplots(1, 2, figsize = (10, 3))\n",
    "sc.pl.umap(atac_adata, color='predicted_labels_1', ax = ax[0], show = False, title='ATAC (RNA celltypist)', frameon=False)\n",
    "sc.pl.umap(rna_adata, color='predicted_labels_1', ax = ax[1], show = False, title='RNA (RNA celltypist)', frameon=False)\n",
    "plt.tight_layout()\n",
    "plt.show()"
   ]
  },
  {
   "cell_type": "code",
   "execution_count": null,
   "id": "a16e07a1-f534-4d5b-bf03-542fa7dfd015",
   "metadata": {},
   "outputs": [],
   "source": [
    "if plots is not None: \n",
    "    markers = plots.split(\",\")\n",
    "    sc.pl.umap(rna_adata, color = markers, frameon = False, sort_order=True)"
   ]
  },
  {
   "cell_type": "markdown",
   "id": "d5aa6e9a-7256-492c-9c8c-70be3c730c1c",
   "metadata": {},
   "source": [
    "## Joint Embedding"
   ]
  },
  {
   "cell_type": "code",
   "execution_count": null,
   "id": "90733e5d-054d-4270-a00d-7257252e429b",
   "metadata": {},
   "outputs": [],
   "source": [
    "# joint embedding\n",
    "atac_adata.obsm['X_joint'] = joint_embedding\n",
    "snap.tl.umap(atac_adata, use_rep='X_joint')"
   ]
  },
  {
   "cell_type": "code",
   "execution_count": null,
   "id": "24bc4c0a-e4a4-40de-bcb7-318ffad01c23",
   "metadata": {},
   "outputs": [],
   "source": [
    "fig, ax = plt.subplots(1, 2, figsize = (10, 3))\n",
    "sc.pl.umap(atac_adata, color=\"leiden_atac\", title = \"Joint embedding (ATAC leiden)\", frameon=False, show = False, ax = ax[0])\n",
    "sc.pl.umap(atac_adata, color=\"leiden_rna\", title = \"Joint embedding (RNA leiden)\", frameon=False, show = False, ax = ax[1])\n",
    "plt.tight_layout()\n",
    "plt.show()"
   ]
  },
  {
   "cell_type": "markdown",
   "id": "637e9229-bf02-4371-9e30-a9d250cbcb2e",
   "metadata": {},
   "source": [
    "## Marker regions"
   ]
  },
  {
   "cell_type": "code",
   "execution_count": null,
   "id": "a814c886-9bfb-4498-a41c-51aa3f94f4e4",
   "metadata": {},
   "outputs": [],
   "source": [
    "marker_peaks = snap.tl.marker_regions(peak_adata, groupby='leiden', pvalue=0.01)\n",
    "snap.pl.regions(peak_adata, groupby='leiden', peaks=marker_peaks, interactive=False)"
   ]
  },
  {
   "cell_type": "markdown",
   "id": "4f3d618b-78d5-4410-bb80-9c4a23784f3d",
   "metadata": {},
   "source": [
    "## Motif enrichment"
   ]
  },
  {
   "cell_type": "code",
   "execution_count": null,
   "id": "21520899-151f-4755-a119-e0adb4dfa666",
   "metadata": {},
   "outputs": [],
   "source": [
    "snap.pl.motif_enrichment(motifs, min_log_fc=3, max_fdr=1e-2, height=1000, interactive=False)"
   ]
  },
  {
   "cell_type": "markdown",
   "id": "c373d344-a108-4832-ab15-9a745995ce96",
   "metadata": {},
   "source": [
    "## Network Analysis"
   ]
  },
  {
   "cell_type": "code",
   "execution_count": null,
   "id": "8fb5539a-c452-460e-9e41-951b9fa2907d",
   "metadata": {},
   "outputs": [],
   "source": [
    "snap.pl.network_edge_stat(pruned_network,\n",
    "                       interactive = False)"
   ]
  },
  {
   "cell_type": "code",
   "execution_count": null,
   "id": "2b82f60b-ef3c-4fd8-858b-c5d879d4c28d",
   "metadata": {},
   "outputs": [],
   "source": [
    "snap.pl.network_scores(pruned_network, score_name = \"cor_score\", \n",
    "                       interactive = False)"
   ]
  }
 ],
 "metadata": {
  "kernelspec": {
   "display_name": "Python (SnapATAC2)",
   "language": "python",
   "name": "snapatac2"
  },
  "language_info": {
   "codemirror_mode": {
    "name": "ipython",
    "version": 3
   },
   "file_extension": ".py",
   "mimetype": "text/x-python",
   "name": "python",
   "nbconvert_exporter": "python",
   "pygments_lexer": "ipython3",
   "version": "3.10.14"
  }
 },
 "nbformat": 4,
 "nbformat_minor": 5
}
